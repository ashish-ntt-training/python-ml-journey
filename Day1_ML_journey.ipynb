{
  "nbformat": 4,
  "nbformat_minor": 0,
  "metadata": {
    "colab": {
      "provenance": [],
      "include_colab_link": true
    },
    "kernelspec": {
      "name": "python3",
      "display_name": "Python 3"
    },
    "language_info": {
      "name": "python"
    }
  },
  "cells": [
    {
      "cell_type": "markdown",
      "metadata": {
        "id": "view-in-github",
        "colab_type": "text"
      },
      "source": [
        "<a href=\"https://colab.research.google.com/github/ashish-ntt-training/python-ml-journey/blob/main/Day1_ML_journey.ipynb\" target=\"_parent\"><img src=\"https://colab.research.google.com/assets/colab-badge.svg\" alt=\"Open In Colab\"/></a>"
      ]
    },
    {
      "cell_type": "markdown",
      "source": [
        "**Day 1** - April 07, 2025"
      ],
      "metadata": {
        "id": "WNC0djsDK-YK"
      }
    },
    {
      "cell_type": "code",
      "execution_count": null,
      "metadata": {
        "colab": {
          "base_uri": "https://localhost:8080/"
        },
        "id": "HpmbKqI7jltH",
        "outputId": "0ec1bf68-5f68-4ec7-f746-ea081ec8cab5"
      },
      "outputs": [
        {
          "output_type": "stream",
          "name": "stdout",
          "text": [
            "hello world\n"
          ]
        }
      ],
      "source": [
        "print(\"hello world\")"
      ]
    },
    {
      "cell_type": "code",
      "source": [
        "a = 10\n",
        "b = 10\n",
        "\n",
        "print(a==b)"
      ],
      "metadata": {
        "id": "vBmraaqXA1JJ",
        "outputId": "a05c2415-8591-4101-84a4-2f3e5887dbd7",
        "colab": {
          "base_uri": "https://localhost:8080/"
        }
      },
      "execution_count": null,
      "outputs": [
        {
          "output_type": "stream",
          "name": "stdout",
          "text": [
            "True\n"
          ]
        }
      ]
    },
    {
      "cell_type": "markdown",
      "source": [
        "**Day 2** - April 09, 2025"
      ],
      "metadata": {
        "id": "8Kaah2W_LIkx"
      }
    },
    {
      "cell_type": "code",
      "source": [
        "a=10\n",
        "b=20\n",
        "c=a\n",
        "print(id(a)) # id function returns the memory location of a varaiable\n",
        "print(id(b))\n",
        "print(id(c))"
      ],
      "metadata": {
        "id": "SPEjtTAQGiv8",
        "outputId": "fbf8fab0-a0cc-4499-b699-963bed1e0dc6",
        "colab": {
          "base_uri": "https://localhost:8080/"
        }
      },
      "execution_count": null,
      "outputs": [
        {
          "output_type": "stream",
          "name": "stdout",
          "text": [
            "10751144\n",
            "10751464\n",
            "10751144\n"
          ]
        }
      ]
    },
    {
      "cell_type": "code",
      "source": [
        "a,b,c=10,20,30 # Variables can be assigned like this also\n",
        "print(a,b,c)"
      ],
      "metadata": {
        "id": "uRGDCevzG_l-",
        "outputId": "017fe3a7-e967-418e-c729-f5a12f6f0ce1",
        "colab": {
          "base_uri": "https://localhost:8080/"
        }
      },
      "execution_count": null,
      "outputs": [
        {
          "output_type": "stream",
          "name": "stdout",
          "text": [
            "10 20 30\n"
          ]
        }
      ]
    },
    {
      "cell_type": "code",
      "source": [
        "a=b=c=10 # Variables can be assigned like this also\n",
        "print(a,b,c)"
      ],
      "metadata": {
        "id": "z2zoZVISHOMd",
        "outputId": "de7842a8-2995-4650-c531-4f1bd6131569",
        "colab": {
          "base_uri": "https://localhost:8080/"
        }
      },
      "execution_count": null,
      "outputs": [
        {
          "output_type": "stream",
          "name": "stdout",
          "text": [
            "10 10 10\n"
          ]
        }
      ]
    },
    {
      "cell_type": "code",
      "source": [
        "import keyword as kw # it lists all the keywords reserved in Python here \"kw\" is alias it can be anything\n",
        "print(kw.kwlist)"
      ],
      "metadata": {
        "id": "96DgjnpKKB93",
        "outputId": "d711bf57-bb63-4ca3-e1ed-adb9551991e6",
        "colab": {
          "base_uri": "https://localhost:8080/"
        }
      },
      "execution_count": null,
      "outputs": [
        {
          "output_type": "stream",
          "name": "stdout",
          "text": [
            "['False', 'None', 'True', 'and', 'as', 'assert', 'async', 'await', 'break', 'class', 'continue', 'def', 'del', 'elif', 'else', 'except', 'finally', 'for', 'from', 'global', 'if', 'import', 'in', 'is', 'lambda', 'nonlocal', 'not', 'or', 'pass', 'raise', 'return', 'try', 'while', 'with', 'yield']\n"
          ]
        }
      ]
    },
    {
      "cell_type": "code",
      "source": [
        "# multiline comment\n",
        "\"\"\"This is\n",
        "a multiline\n",
        "comment\"\"\"\n",
        "print(\"Hello\")"
      ],
      "metadata": {
        "id": "38a8Ae6sKORj",
        "outputId": "4f9e0d57-1bed-49eb-ebe7-bd6c46a24e12",
        "colab": {
          "base_uri": "https://localhost:8080/"
        }
      },
      "execution_count": null,
      "outputs": [
        {
          "output_type": "stream",
          "name": "stdout",
          "text": [
            "Hello\n"
          ]
        }
      ]
    },
    {
      "cell_type": "code",
      "source": [
        "#python string\n",
        "a = 'ntt'\n",
        "b = \"data\"\n",
        "print(a)\n",
        "print(b)\n",
        "print(a,b)"
      ],
      "metadata": {
        "id": "TzDO14yMNOKq",
        "outputId": "fa1f3962-be16-4c5c-e429-8178d9de9f84",
        "colab": {
          "base_uri": "https://localhost:8080/"
        }
      },
      "execution_count": null,
      "outputs": [
        {
          "output_type": "stream",
          "name": "stdout",
          "text": [
            "ntt\n",
            "data\n",
            "ntt data\n"
          ]
        }
      ]
    },
    {
      "cell_type": "code",
      "source": [
        "#multiline string\n",
        "a = \"\"\"aassds\n",
        "ddddd\n",
        "ddfff\n",
        "fsdssws\"\"\"\n",
        "print(a)"
      ],
      "metadata": {
        "id": "6ScQoWY6NueK",
        "outputId": "23fd1ded-7e1b-47d9-9cca-1d2d45d0d0ef",
        "colab": {
          "base_uri": "https://localhost:8080/"
        }
      },
      "execution_count": null,
      "outputs": [
        {
          "output_type": "stream",
          "name": "stdout",
          "text": [
            "aassds\n",
            "ddddd\n",
            "ddfff\n",
            "fsdssws\n"
          ]
        }
      ]
    },
    {
      "cell_type": "code",
      "source": [
        "# Positive String Indexing\n",
        "a = 'NTT DATA'\n",
        "print(a[0])\n",
        "print(a[1])\n",
        "print(a[2])\n",
        "print(a[3])\n",
        "print(a[4])\n",
        "print(a[5])\n",
        "print(a[6])\n",
        "print(a[7])"
      ],
      "metadata": {
        "id": "xdamR4MDPuxi",
        "outputId": "3da79f87-ac1c-4060-b25a-ddc906d38868",
        "colab": {
          "base_uri": "https://localhost:8080/"
        }
      },
      "execution_count": null,
      "outputs": [
        {
          "output_type": "stream",
          "name": "stdout",
          "text": [
            "N\n",
            "T\n",
            "T\n",
            " \n",
            "D\n",
            "A\n",
            "T\n",
            "A\n"
          ]
        }
      ]
    },
    {
      "cell_type": "code",
      "source": [
        "# Negative String Indexing\n",
        "a = 'NTT DATA'\n",
        "\n",
        "print(a[-1])\n",
        "print(a[-2])\n",
        "print(a[-3])\n",
        "print(a[-4])\n",
        "print(a[-5])\n",
        "print(a[-6])\n",
        "print(a[-7])\n",
        "print(a[-8])"
      ],
      "metadata": {
        "id": "PVkmIdOoQO89",
        "outputId": "ef1c1897-564d-4e95-db8c-8bd793fab21f",
        "colab": {
          "base_uri": "https://localhost:8080/"
        }
      },
      "execution_count": null,
      "outputs": [
        {
          "output_type": "stream",
          "name": "stdout",
          "text": [
            "A\n",
            "T\n",
            "A\n",
            "D\n",
            " \n",
            "T\n",
            "T\n",
            "N\n"
          ]
        }
      ]
    },
    {
      "cell_type": "markdown",
      "source": [
        "**Day 3** - April 11, 2025"
      ],
      "metadata": {
        "id": "bDjYQZVnNOaH"
      }
    },
    {
      "cell_type": "code",
      "source": [
        "# Creating a simple list\n",
        "\n",
        "l = [10,20.3,\"NTT\", 3+4j]\n",
        "print(l)\n",
        "print(type(l))"
      ],
      "metadata": {
        "id": "C0ZTLt-6Pavv",
        "outputId": "734cbf39-76ab-4592-fb02-074698627172",
        "colab": {
          "base_uri": "https://localhost:8080/"
        }
      },
      "execution_count": null,
      "outputs": [
        {
          "output_type": "stream",
          "name": "stdout",
          "text": [
            "[10, 20.3, 'NTT', (3+4j)]\n",
            "<class 'list'>\n"
          ]
        }
      ]
    },
    {
      "cell_type": "code",
      "source": [
        "# type function returns the datatype class\n",
        "\n",
        "a = 10\n",
        "print(type(a))\n",
        "\n",
        "b = 'NTT'\n",
        "print(type(b))\n",
        "\n",
        "c = 3.414\n",
        "print(type(c))\n",
        "\n",
        "d = 3+4J\n",
        "print(type(d))"
      ],
      "metadata": {
        "id": "PN2PD2stSPc3",
        "outputId": "3a986325-b4ef-4ec0-81c9-e84ab5079524",
        "colab": {
          "base_uri": "https://localhost:8080/"
        }
      },
      "execution_count": null,
      "outputs": [
        {
          "output_type": "stream",
          "name": "stdout",
          "text": [
            "<class 'int'>\n",
            "<class 'str'>\n",
            "<class 'float'>\n",
            "<class 'complex'>\n"
          ]
        }
      ]
    },
    {
      "cell_type": "code",
      "source": [
        "# isinstance\n",
        "\n",
        "a = 10\n",
        "print(isinstance(a,int))\n",
        "print(isinstance(a,float))\n",
        "print(isinstance(a,str))\n"
      ],
      "metadata": {
        "id": "tGm4PdxYT0FZ",
        "outputId": "750d5921-7127-4618-8cc3-bc3a47497e35",
        "colab": {
          "base_uri": "https://localhost:8080/"
        }
      },
      "execution_count": null,
      "outputs": [
        {
          "output_type": "stream",
          "name": "stdout",
          "text": [
            "True\n",
            "False\n",
            "False\n"
          ]
        }
      ]
    },
    {
      "cell_type": "code",
      "source": [
        "# variable annotation\n",
        "\n",
        "name: str = \"Data\"\n",
        "print(name)\n",
        "\n",
        "print(__annotations__['name'])\n",
        "print(type(name))"
      ],
      "metadata": {
        "id": "EuW1oE2hULpK",
        "outputId": "ef95cb54-9c96-41fe-e99a-dd36dc65c77c",
        "colab": {
          "base_uri": "https://localhost:8080/"
        }
      },
      "execution_count": null,
      "outputs": [
        {
          "output_type": "stream",
          "name": "stdout",
          "text": [
            "Data\n",
            "<class 'str'>\n",
            "<class 'str'>\n"
          ]
        }
      ]
    },
    {
      "cell_type": "code",
      "source": [
        "# variable annotation\n",
        "\n",
        "val: str = 10\n",
        "print(val)\n",
        "\n",
        "print(__annotations__['val'])\n",
        "print(type(val))"
      ],
      "metadata": {
        "id": "WbytlJG_WQQ6",
        "outputId": "d3bd70b7-3515-4bc1-c6a5-c382952b1f6a",
        "colab": {
          "base_uri": "https://localhost:8080/"
        }
      },
      "execution_count": null,
      "outputs": [
        {
          "output_type": "stream",
          "name": "stdout",
          "text": [
            "10\n",
            "<class 'str'>\n",
            "<class 'int'>\n"
          ]
        }
      ]
    },
    {
      "cell_type": "markdown",
      "source": [
        "**Day 6** - April 21, 2025"
      ],
      "metadata": {
        "id": "OvPtOLr3tk7F"
      }
    },
    {
      "cell_type": "code",
      "source": [
        "# Lists\n",
        "\n",
        "l1 = [10,20,3.14,\"NTT Data\", 2+3j,[100,200,300]]\n",
        "\n",
        "print(l1)\n",
        "\n",
        "print(type(l1))\n",
        "\n",
        "print(l1[0],l1[-1])"
      ],
      "metadata": {
        "id": "A7FUZVICtpwi",
        "outputId": "3ab3488a-b37e-4ef8-deba-4f7ce729ae46",
        "colab": {
          "base_uri": "https://localhost:8080/"
        }
      },
      "execution_count": null,
      "outputs": [
        {
          "output_type": "stream",
          "name": "stdout",
          "text": [
            "[10, 20, 3.14, 'NTT Data', (2+3j), [100, 200, 300]]\n",
            "<class 'list'>\n",
            "10 [100, 200, 300]\n"
          ]
        }
      ]
    },
    {
      "cell_type": "code",
      "source": [
        "# Slicing in list\n",
        "l2 = [10,20,3.14,\"NTT Data\", 2+3j,[100,200,300]]\n",
        "\n",
        "print(l2[0:4])\n",
        "print(l2[0:4:2])\n",
        "print(l2[::])\n",
        "print(l2[::-1])"
      ],
      "metadata": {
        "id": "zvfdDPbmyfd0",
        "outputId": "28f12351-eee2-4a5d-dadf-5c5901a5b6c8",
        "colab": {
          "base_uri": "https://localhost:8080/"
        }
      },
      "execution_count": null,
      "outputs": [
        {
          "output_type": "stream",
          "name": "stdout",
          "text": [
            "[10, 20, 3.14, 'NTT Data']\n",
            "[10, 3.14]\n",
            "[10, 20, 3.14, 'NTT Data', (2+3j), [100, 200, 300]]\n",
            "[[100, 200, 300], (2+3j), 'NTT Data', 3.14, 20, 10]\n"
          ]
        }
      ]
    },
    {
      "cell_type": "code",
      "source": [
        "# Concatenation of lists\n",
        "\n",
        "l1 = [10,20,34]\n",
        "l2 = [50,60,70]\n",
        "l3 = l1 + l2\n",
        "\n",
        "print(l1)\n",
        "print(l2)\n",
        "print(l3)\n",
        "\n",
        "print(id(l1))\n",
        "print(id(l2))\n",
        "print(id(l3))"
      ],
      "metadata": {
        "id": "CpIpZKk_0HVJ",
        "outputId": "c775bd5e-3638-4705-99c9-331a55c76def",
        "colab": {
          "base_uri": "https://localhost:8080/"
        }
      },
      "execution_count": null,
      "outputs": [
        {
          "output_type": "stream",
          "name": "stdout",
          "text": [
            "[10, 20, 34]\n",
            "[50, 60, 70]\n",
            "[10, 20, 34, 50, 60, 70]\n",
            "136125959138944\n",
            "136125957368128\n",
            "136125957360128\n"
          ]
        }
      ]
    },
    {
      "cell_type": "code",
      "source": [
        "# Multiplication of lists\n",
        "\n",
        "l1 = [10,20,30]\n",
        "l2 = l1*3\n",
        "\n",
        "print(l1*2)\n",
        "print(l2)"
      ],
      "metadata": {
        "id": "4mAfTavh1Ikx",
        "outputId": "fb684748-8dbc-48f4-cf64-2bb9db21e3d3",
        "colab": {
          "base_uri": "https://localhost:8080/"
        }
      },
      "execution_count": null,
      "outputs": [
        {
          "output_type": "stream",
          "name": "stdout",
          "text": [
            "[10, 20, 30, 10, 20, 30]\n",
            "[10, 20, 30, 10, 20, 30, 10, 20, 30]\n"
          ]
        }
      ]
    },
    {
      "cell_type": "code",
      "source": [
        "# Iteration of list\n",
        "\n",
        "l1 = [10,20,30,40,50]\n",
        "\n",
        "for i in l1:\n",
        "  print(i)"
      ],
      "metadata": {
        "id": "o5gAcyna1aII",
        "outputId": "b9600a47-6c2f-4740-b39f-b3b2af2a62df",
        "colab": {
          "base_uri": "https://localhost:8080/"
        }
      },
      "execution_count": null,
      "outputs": [
        {
          "output_type": "stream",
          "name": "stdout",
          "text": [
            "10\n",
            "20\n",
            "30\n",
            "40\n",
            "50\n"
          ]
        }
      ]
    },
    {
      "cell_type": "code",
      "source": [
        "# Iteration of list\n",
        "\n",
        "l1 = [10,20,30,40,50]\n",
        "\n",
        "for i in l1:\n",
        "  print(i+5)"
      ],
      "metadata": {
        "id": "gGfarjd51wUc",
        "outputId": "f09dbe6b-e5f3-4fc0-e9ed-eef82a95c01f",
        "colab": {
          "base_uri": "https://localhost:8080/"
        }
      },
      "execution_count": null,
      "outputs": [
        {
          "output_type": "stream",
          "name": "stdout",
          "text": [
            "15\n",
            "25\n",
            "35\n",
            "45\n",
            "55\n"
          ]
        }
      ]
    },
    {
      "cell_type": "code",
      "source": [
        "# Iteration of list\n",
        "\n",
        "for i in [10,20,30,40,50]:\n",
        "  print(i+6)"
      ],
      "metadata": {
        "id": "zACV3Y0r12R3",
        "outputId": "8975e302-2d44-44ce-c0ac-d2a53817e3ad",
        "colab": {
          "base_uri": "https://localhost:8080/"
        }
      },
      "execution_count": null,
      "outputs": [
        {
          "output_type": "stream",
          "name": "stdout",
          "text": [
            "16\n",
            "26\n",
            "36\n",
            "46\n",
            "56\n"
          ]
        }
      ]
    },
    {
      "cell_type": "code",
      "source": [
        "# Membership operator - in\n",
        "\n",
        "print(10 in [10,20,30,40,50])\n",
        "print(100 in [10,20,30,40,50])\n",
        "\n",
        "print('s' in 'NTT Data')\n",
        "print('N' in 'NTT Data')"
      ],
      "metadata": {
        "id": "1JybidER17o_",
        "outputId": "e8296f13-5cef-43da-e14c-7261e0b6868d",
        "colab": {
          "base_uri": "https://localhost:8080/"
        }
      },
      "execution_count": null,
      "outputs": [
        {
          "output_type": "stream",
          "name": "stdout",
          "text": [
            "True\n",
            "False\n",
            "False\n",
            "True\n"
          ]
        }
      ]
    },
    {
      "cell_type": "code",
      "source": [
        "# Membership operator - not in\n",
        "\n",
        "print(100 not in [10,20,30,40,50])\n",
        "print(10 not in [10,20,30,40,50])\n",
        "\n",
        "print('s' not in 'NTT Data')\n",
        "print('N' not in 'NTT Data')\n",
        "\n",
        "print ('NTT' in \"NTT DATA\")"
      ],
      "metadata": {
        "id": "7iwFlNaQ2Nj_",
        "outputId": "3781182a-1794-453d-c460-958a09e4d82a",
        "colab": {
          "base_uri": "https://localhost:8080/"
        }
      },
      "execution_count": null,
      "outputs": [
        {
          "output_type": "stream",
          "name": "stdout",
          "text": [
            "True\n",
            "False\n",
            "True\n",
            "False\n",
            "True\n"
          ]
        }
      ]
    },
    {
      "cell_type": "code",
      "source": [
        "# Deletion of a list - del\n",
        "\n",
        "l1 = [10,20,30,40,50]\n",
        "\n",
        "print(l1)\n",
        "del l1 # deleting the l1 list\n",
        "print(l1) #will throw error 'l1' is not defined"
      ],
      "metadata": {
        "id": "-9kCyfvr2i6G",
        "outputId": "6c3e389a-de7f-44e2-f64e-a8bc606c8ecf",
        "colab": {
          "base_uri": "https://localhost:8080/",
          "height": 193
        }
      },
      "execution_count": null,
      "outputs": [
        {
          "output_type": "stream",
          "name": "stdout",
          "text": [
            "[10, 20, 30, 40, 50]\n"
          ]
        },
        {
          "output_type": "error",
          "ename": "NameError",
          "evalue": "name 'l1' is not defined",
          "traceback": [
            "\u001b[0;31m---------------------------------------------------------------------------\u001b[0m",
            "\u001b[0;31mNameError\u001b[0m                                 Traceback (most recent call last)",
            "\u001b[0;32m<ipython-input-43-9f1f444d21e3>\u001b[0m in \u001b[0;36m<cell line: 0>\u001b[0;34m()\u001b[0m\n\u001b[1;32m      5\u001b[0m \u001b[0mprint\u001b[0m\u001b[0;34m(\u001b[0m\u001b[0ml1\u001b[0m\u001b[0;34m)\u001b[0m\u001b[0;34m\u001b[0m\u001b[0;34m\u001b[0m\u001b[0m\n\u001b[1;32m      6\u001b[0m \u001b[0;32mdel\u001b[0m \u001b[0ml1\u001b[0m \u001b[0;31m# deleting the l1 list\u001b[0m\u001b[0;34m\u001b[0m\u001b[0;34m\u001b[0m\u001b[0m\n\u001b[0;32m----> 7\u001b[0;31m \u001b[0mprint\u001b[0m\u001b[0;34m(\u001b[0m\u001b[0ml1\u001b[0m\u001b[0;34m)\u001b[0m \u001b[0;31m#will throw error 'l1' is not defined\u001b[0m\u001b[0;34m\u001b[0m\u001b[0;34m\u001b[0m\u001b[0m\n\u001b[0m",
            "\u001b[0;31mNameError\u001b[0m: name 'l1' is not defined"
          ]
        }
      ]
    },
    {
      "cell_type": "code",
      "source": [
        "# Deletion of an element in list - del\n",
        "\n",
        "l1 = [10,20,30,40,50]\n",
        "\n",
        "print(l1)\n",
        "del l1[1] # deleting the elemenmt at position 1\n",
        "print(l1)"
      ],
      "metadata": {
        "id": "br2iEyRW3kNF",
        "outputId": "86ef2e54-9d68-4977-eebd-b26cf05b51c1",
        "colab": {
          "base_uri": "https://localhost:8080/"
        }
      },
      "execution_count": null,
      "outputs": [
        {
          "output_type": "stream",
          "name": "stdout",
          "text": [
            "[10, 20, 30, 40, 50]\n",
            "[10, 30, 40, 50]\n"
          ]
        }
      ]
    },
    {
      "cell_type": "code",
      "source": [
        "# Inbuilt functions\n",
        "# max()\n",
        "\n",
        "l1 = [10,200,3,500,80]\n",
        "print(max(l1))\n",
        "\n",
        "l2 = ['aaa','bbbb','ccc']\n",
        "print(max(l2)) #ASCII vlue will be compared\n"
      ],
      "metadata": {
        "id": "5mRkTwOA3t6E",
        "outputId": "f601d826-299b-4131-d125-0479e48ad7d3",
        "colab": {
          "base_uri": "https://localhost:8080/"
        }
      },
      "execution_count": null,
      "outputs": [
        {
          "output_type": "stream",
          "name": "stdout",
          "text": [
            "500\n",
            "ccc\n"
          ]
        }
      ]
    },
    {
      "cell_type": "code",
      "source": [
        "# Inbuilt functions\n",
        "# max()\n",
        "\n",
        "l3 = [10,20,'ntt data']\n",
        "print(max(l3)) # will throw an error - cannot compare between string and integer"
      ],
      "metadata": {
        "id": "XNNKblB24ftE",
        "outputId": "a0be421f-ddb2-47a9-8a6e-985083fc0b51",
        "colab": {
          "base_uri": "https://localhost:8080/",
          "height": 176
        }
      },
      "execution_count": null,
      "outputs": [
        {
          "output_type": "error",
          "ename": "TypeError",
          "evalue": "'>' not supported between instances of 'str' and 'int'",
          "traceback": [
            "\u001b[0;31m---------------------------------------------------------------------------\u001b[0m",
            "\u001b[0;31mTypeError\u001b[0m                                 Traceback (most recent call last)",
            "\u001b[0;32m<ipython-input-53-d5169444583b>\u001b[0m in \u001b[0;36m<cell line: 0>\u001b[0;34m()\u001b[0m\n\u001b[1;32m      3\u001b[0m \u001b[0;34m\u001b[0m\u001b[0m\n\u001b[1;32m      4\u001b[0m \u001b[0ml3\u001b[0m \u001b[0;34m=\u001b[0m \u001b[0;34m[\u001b[0m\u001b[0;36m10\u001b[0m\u001b[0;34m,\u001b[0m\u001b[0;36m20\u001b[0m\u001b[0;34m,\u001b[0m\u001b[0;34m'ntt data'\u001b[0m\u001b[0;34m]\u001b[0m\u001b[0;34m\u001b[0m\u001b[0;34m\u001b[0m\u001b[0m\n\u001b[0;32m----> 5\u001b[0;31m \u001b[0mprint\u001b[0m\u001b[0;34m(\u001b[0m\u001b[0mmax\u001b[0m\u001b[0;34m(\u001b[0m\u001b[0ml3\u001b[0m\u001b[0;34m)\u001b[0m\u001b[0;34m)\u001b[0m \u001b[0;31m# will throw an error\u001b[0m\u001b[0;34m\u001b[0m\u001b[0;34m\u001b[0m\u001b[0m\n\u001b[0m",
            "\u001b[0;31mTypeError\u001b[0m: '>' not supported between instances of 'str' and 'int'"
          ]
        }
      ]
    },
    {
      "cell_type": "code",
      "source": [
        "# Inbuilt functions\n",
        "# max()\n",
        "\n",
        "l4 = ['aaa','bbbb','cccccccc']\n",
        "print(max(l4 , key = len)) #compare based on length, len is inbuild method"
      ],
      "metadata": {
        "id": "zJ3Uezfu42u3",
        "outputId": "30b62157-f9b2-4357-b95b-fb3cecd5846e",
        "colab": {
          "base_uri": "https://localhost:8080/"
        }
      },
      "execution_count": null,
      "outputs": [
        {
          "output_type": "stream",
          "name": "stdout",
          "text": [
            "cccccccc\n"
          ]
        }
      ]
    },
    {
      "cell_type": "code",
      "source": [
        "# Inbuilt functions\n",
        "# max()\n",
        "\n",
        "l5 = []\n",
        "print(max(l5,default = 0)) # giving a default value in case list is empty"
      ],
      "metadata": {
        "id": "fzS25h6_5erT",
        "outputId": "2693a7ec-ab14-4897-bd45-fe38f0a0080a",
        "colab": {
          "base_uri": "https://localhost:8080/"
        }
      },
      "execution_count": null,
      "outputs": [
        {
          "output_type": "stream",
          "name": "stdout",
          "text": [
            "0\n"
          ]
        }
      ]
    },
    {
      "cell_type": "code",
      "source": [
        "# min() functin returns the minimum element, rest all is same as max()"
      ],
      "metadata": {
        "id": "O7QOYdpt6Yk7"
      },
      "execution_count": null,
      "outputs": []
    },
    {
      "cell_type": "code",
      "source": [
        "# append function - this function doesn't returns anything\n",
        "\n",
        "l1  = [10,20,30,40]\n",
        "\n",
        "print(l1)\n",
        "\n",
        "l1.append(50)\n",
        "print(l1)\n",
        "\n",
        "l1.append(80)\n",
        "l1.append(70)\n",
        "l1.append([60,90,2+3j])\n",
        "l1.append('ntt data')\n",
        "print(l1)"
      ],
      "metadata": {
        "id": "Av_TF_2B6gdD",
        "outputId": "49fc68bb-9528-476b-dee3-ee709a5485af",
        "colab": {
          "base_uri": "https://localhost:8080/"
        }
      },
      "execution_count": null,
      "outputs": [
        {
          "output_type": "stream",
          "name": "stdout",
          "text": [
            "[10, 20, 30, 40]\n",
            "[10, 20, 30, 40, 50]\n",
            "[10, 20, 30, 40, 50, 80, 70, [60, 90, (2+3j)], 'ntt data']\n"
          ]
        }
      ]
    },
    {
      "cell_type": "code",
      "source": [
        "# take six inputs and add it to list\n",
        "\n",
        "l1 = [1,2,3,4]\n",
        "\n",
        "count = 1\n",
        "while count <= 6:\n",
        "  element = input(\"Enter element\")\n",
        "  l1.append(element)\n",
        "  count +=1\n",
        "\n",
        "print(l1)"
      ],
      "metadata": {
        "id": "1NKKdxG47jUD",
        "outputId": "337e92a7-2603-4f98-9ecd-c4bdb7be99d4",
        "colab": {
          "base_uri": "https://localhost:8080/"
        }
      },
      "execution_count": null,
      "outputs": [
        {
          "output_type": "stream",
          "name": "stdout",
          "text": [
            "Enter elementa\n",
            "Enter elementb\n",
            "Enter elementn\n",
            "Enter elementd\n",
            "Enter elemente\n",
            "Enter elementf\n",
            "[1, 2, 3, 4, 'a', 'b', 'n', 'd', 'e', 'f']\n"
          ]
        }
      ]
    },
    {
      "cell_type": "code",
      "source": [
        "# take six inputs and add it to list\n",
        "\n",
        "list = []\n",
        "for i in range(6):\n",
        "  num = int(input(\"Enter a number\"))\n",
        "  list.append(num)\n",
        "\n",
        "print(list)"
      ],
      "metadata": {
        "id": "1U0aem4O861n",
        "outputId": "d5233879-795e-4e2b-8705-30b4c0aebc4d",
        "colab": {
          "base_uri": "https://localhost:8080/"
        }
      },
      "execution_count": null,
      "outputs": [
        {
          "output_type": "stream",
          "name": "stdout",
          "text": [
            "Enter a number1\n",
            "Enter a number2\n",
            "Enter a number3\n",
            "Enter a number4\n",
            "Enter a number5\n",
            "Enter a number6\n",
            "[1, 2, 3, 4, 5, 6]\n"
          ]
        }
      ]
    },
    {
      "cell_type": "code",
      "source": [
        "# Extend mathod\n",
        "\n",
        "l1 = [10,20,30]\n",
        "l2 = [40,50,60]\n",
        "\n",
        "print(l1)\n",
        "print(l2)\n",
        "\n",
        "l1.extend(l2)\n",
        "\n",
        "print(l1)"
      ],
      "metadata": {
        "id": "vZWPenkE9l-U",
        "outputId": "d66cb04f-d6a8-4dc9-acbb-32beb666e67d",
        "colab": {
          "base_uri": "https://localhost:8080/"
        }
      },
      "execution_count": null,
      "outputs": [
        {
          "output_type": "stream",
          "name": "stdout",
          "text": [
            "[10, 20, 30]\n",
            "[40, 50, 60]\n",
            "[10, 20, 30, 40, 50, 60]\n"
          ]
        }
      ]
    },
    {
      "cell_type": "code",
      "source": [
        "# Extend mathod\n",
        "\n",
        "l1 = [10,20,30]\n",
        "l2 = [40,50,60]\n",
        "\n",
        "print(l1)\n",
        "print(l2)\n",
        "\n",
        "l1.extend(['a','b',50])\n",
        "\n",
        "print(l1)"
      ],
      "metadata": {
        "id": "5tX-S-Co93FZ",
        "outputId": "2514a8d4-d062-471c-ea45-6a6661b2d531",
        "colab": {
          "base_uri": "https://localhost:8080/"
        }
      },
      "execution_count": null,
      "outputs": [
        {
          "output_type": "stream",
          "name": "stdout",
          "text": [
            "[10, 20, 30]\n",
            "[40, 50, 60]\n",
            "[10, 20, 30, 'a', 'b', 50]\n"
          ]
        }
      ]
    },
    {
      "cell_type": "code",
      "source": [
        "# Insert method\n",
        "# Syntax - list.insert(index,element)\n",
        "\n",
        "l1 = [10,20,30,40,50]\n",
        "print(l1)\n",
        "\n",
        "l1.insert(0,1000)\n",
        "print(l1)\n",
        "\n",
        "l1.insert(3,2000)\n",
        "print(l1)"
      ],
      "metadata": {
        "id": "7m9Io__C-Ixc",
        "outputId": "fad49ca1-3d45-4639-bde3-5aa1d5a8b9d3",
        "colab": {
          "base_uri": "https://localhost:8080/"
        }
      },
      "execution_count": null,
      "outputs": [
        {
          "output_type": "stream",
          "name": "stdout",
          "text": [
            "[10, 20, 30, 40, 50]\n",
            "[1000, 10, 20, 30, 40, 50]\n",
            "[1000, 10, 20, 2000, 30, 40, 50]\n"
          ]
        }
      ]
    },
    {
      "cell_type": "code",
      "source": [
        "# Remove method\n",
        "# Syntax - list.remove(element)\n",
        "# Removes the first occurance of the elemnent\n",
        "\n",
        "l1 = [10,20,30,40,50]\n",
        "print(l1)\n",
        "\n",
        "l1.remove(30)\n",
        "print(l1)"
      ],
      "metadata": {
        "id": "N2FQx_Hn-y_z",
        "outputId": "23625257-f057-4222-db5a-26a1b922a5d6",
        "colab": {
          "base_uri": "https://localhost:8080/"
        }
      },
      "execution_count": null,
      "outputs": [
        {
          "output_type": "stream",
          "name": "stdout",
          "text": [
            "[10, 20, 30, 40, 50]\n",
            "[10, 20, 40, 50]\n"
          ]
        }
      ]
    },
    {
      "cell_type": "code",
      "source": [
        "# Remove method\n",
        "# Syntax - list.remove(element)\n",
        "# Removes the first occurance of the elemnent\n",
        "\n",
        "l1 = [10,20,30,40,30,50]\n",
        "print(l1)\n",
        "\n",
        "l1.remove(30)\n",
        "print(l1)"
      ],
      "metadata": {
        "id": "5gb4P2uC_GMb",
        "outputId": "28a9da9c-8660-4a7b-94ee-7987e9bd6c61",
        "colab": {
          "base_uri": "https://localhost:8080/"
        }
      },
      "execution_count": null,
      "outputs": [
        {
          "output_type": "stream",
          "name": "stdout",
          "text": [
            "[10, 20, 30, 40, 30, 50]\n",
            "[10, 20, 40, 30, 50]\n"
          ]
        }
      ]
    },
    {
      "cell_type": "code",
      "source": [
        "# Pop method\n",
        "# Syntsx - list.pop(index)\n",
        "# removes the element at provided index. If index not provided then last element is removed.\n",
        "# Returns the popped element\n",
        "\n",
        "l1 = [10,20,30,40,50]\n",
        "print(l1)\n",
        "\n",
        "l1.pop()\n",
        "print(l1)\n",
        "\n",
        "l1.pop(2)\n",
        "print(l1)\n",
        "\n"
      ],
      "metadata": {
        "id": "8nEcquXD_Ypv",
        "outputId": "1931beac-0682-42f4-f7de-04292fc91283",
        "colab": {
          "base_uri": "https://localhost:8080/"
        }
      },
      "execution_count": null,
      "outputs": [
        {
          "output_type": "stream",
          "name": "stdout",
          "text": [
            "[10, 20, 30, 40, 50]\n",
            "[10, 20, 30, 40]\n",
            "[10, 20, 40]\n"
          ]
        }
      ]
    },
    {
      "cell_type": "code",
      "source": [
        "# Pop method\n",
        "# Syntsx - list.pop(index)\n",
        "# removes the element at provided index. If index not provided then last element is removed.\n",
        "# Returns the popped element\n",
        "\n",
        "l1 = [10,20,30,40,50]\n",
        "print(l1)\n",
        "\n",
        "res=l1.pop()\n",
        "print(res)\n",
        "print(l1)\n",
        "\n"
      ],
      "metadata": {
        "id": "hPILIc11_2-l",
        "outputId": "b40dea2e-9b8c-4743-f970-c84b9e63a69c",
        "colab": {
          "base_uri": "https://localhost:8080/"
        }
      },
      "execution_count": null,
      "outputs": [
        {
          "output_type": "stream",
          "name": "stdout",
          "text": [
            "[10, 20, 30, 40, 50]\n",
            "50\n",
            "[10, 20, 30, 40]\n",
            "[10, 20, 30, 40, 50]\n",
            "20\n",
            "[10, 20, 30, 40]\n"
          ]
        }
      ]
    },
    {
      "cell_type": "code",
      "source": [
        "# Pop method\n",
        "# Syntsx - list.pop(index)\n",
        "# removes the element at provided index. If index not provided then last element is removed.\n",
        "# Returns the popped element\n",
        "\n",
        "l2 = [10,20,30,40,50]\n",
        "print(l2)\n",
        "\n",
        "res=l2.pop(1)\n",
        "print(res)\n",
        "print(l2)"
      ],
      "metadata": {
        "id": "k5sy1_aKAJ2v",
        "outputId": "2101ef5a-6b80-49cc-8129-790a74489a22",
        "colab": {
          "base_uri": "https://localhost:8080/"
        }
      },
      "execution_count": null,
      "outputs": [
        {
          "output_type": "stream",
          "name": "stdout",
          "text": [
            "[10, 20, 30, 40, 50]\n",
            "20\n",
            "[10, 30, 40, 50]\n"
          ]
        }
      ]
    },
    {
      "cell_type": "code",
      "source": [
        "# Clear method\n",
        "# Syntax - list.clear()\n",
        "# removes all element in a list\n",
        "\n",
        "l1 = [10,20,30,40,50]\n",
        "print(l1)\n",
        "\n",
        "l1.clear()\n",
        "print(l1)"
      ],
      "metadata": {
        "id": "eLvD4B8CA-rx",
        "outputId": "017a150c-3073-40b7-ca48-bea0951fd3e9",
        "colab": {
          "base_uri": "https://localhost:8080/"
        }
      },
      "execution_count": null,
      "outputs": [
        {
          "output_type": "stream",
          "name": "stdout",
          "text": [
            "[10, 20, 30, 40, 50]\n",
            "[]\n"
          ]
        }
      ]
    },
    {
      "cell_type": "code",
      "source": [
        "# Del method\n",
        "# Syntax - del list[index] - deletes the index element\n",
        "# Syntax - del list[index1:index2] - deletes index1 to index2\n",
        "# Syntax - del list - deletes entire list\n",
        "\n",
        "l1 = [10,20,30,40,50,60]\n",
        "print(l1)\n",
        "\n",
        "del l1[2]\n",
        "print(l1)"
      ],
      "metadata": {
        "id": "Bta-AidABOCZ",
        "outputId": "6b30d85d-9725-4e36-9f41-c4f7875bc97f",
        "colab": {
          "base_uri": "https://localhost:8080/"
        }
      },
      "execution_count": null,
      "outputs": [
        {
          "output_type": "stream",
          "name": "stdout",
          "text": [
            "[10, 20, 30, 40, 50, 60]\n",
            "[10, 20, 40, 50, 60]\n"
          ]
        }
      ]
    },
    {
      "cell_type": "code",
      "source": [
        "# Del method\n",
        "# Syntax - del list[index] - deletes the index element\n",
        "# Syntax - del list[index1:index2] - deletes index1 to index2\n",
        "# Syntax - del list - deletes entire list\n",
        "\n",
        "l1 = [10,20,30,40,50,60]\n",
        "print(l1)\n",
        "\n",
        "del l1[2:4]\n",
        "print(l1)"
      ],
      "metadata": {
        "id": "70ESc_WZB12G",
        "outputId": "6feae249-3724-44c4-d6d8-6275ffe8f286",
        "colab": {
          "base_uri": "https://localhost:8080/"
        }
      },
      "execution_count": null,
      "outputs": [
        {
          "output_type": "stream",
          "name": "stdout",
          "text": [
            "[10, 20, 30, 40, 50, 60]\n",
            "[10, 20, 50, 60]\n"
          ]
        }
      ]
    },
    {
      "cell_type": "code",
      "source": [
        "# Del method\n",
        "# Syntax - del list[index] - deletes the index element\n",
        "# Syntax - del list[index1:index2] - deletes index1 to index2\n",
        "# Syntax - del list - deletes entire list\n",
        "\n",
        "l1 = [10,20,30,40,50,60]\n",
        "print(l1)\n",
        "\n",
        "del l1\n",
        "print(l1) # Throws error because l1 no longer exists"
      ],
      "metadata": {
        "id": "lkGI1LF-B9gX",
        "outputId": "e70c40ff-a81c-4aeb-8f33-a490f5564fdf",
        "colab": {
          "base_uri": "https://localhost:8080/"
        }
      },
      "execution_count": null,
      "outputs": [
        {
          "output_type": "stream",
          "name": "stdout",
          "text": [
            "[10, 20, 30, 40, 50, 60]\n"
          ]
        }
      ]
    },
    {
      "cell_type": "code",
      "source": [
        "# program to remove duplicate element\n",
        "# input l1 = [10,20,10,30,20,45]\n",
        "# output = [10,20,30,45]\n",
        "\n",
        "l1 = [10,20,10,30,20,45]\n",
        "l2 = []\n",
        "for num in l1:\n",
        "  if num not in l2:\n",
        "    l2.append(num)\n",
        "print(l2)"
      ],
      "metadata": {
        "id": "mUPFG7JiCdFb",
        "outputId": "38ecaee7-c519-4db7-ca33-e6f03da88924",
        "colab": {
          "base_uri": "https://localhost:8080/"
        }
      },
      "execution_count": null,
      "outputs": [
        {
          "output_type": "stream",
          "name": "stdout",
          "text": [
            "[10, 20, 30, 45]\n"
          ]
        }
      ]
    },
    {
      "cell_type": "code",
      "source": [
        "# Find second largest element in list\n",
        "\n",
        "l1 = [10,30,40,20,50]\n",
        "\n",
        "l1.sort()\n",
        "print(l1)\n",
        "print(l1[-2])"
      ],
      "metadata": {
        "id": "Nt41iG3oFvTL",
        "outputId": "7a15b36e-6fab-4bff-8cb5-d672bf530742",
        "colab": {
          "base_uri": "https://localhost:8080/"
        }
      },
      "execution_count": null,
      "outputs": [
        {
          "output_type": "stream",
          "name": "stdout",
          "text": [
            "[10, 20, 30, 40, 50]\n",
            "40\n"
          ]
        }
      ]
    },
    {
      "cell_type": "code",
      "source": [
        "# Find second largest element in list\n",
        "\n",
        "l1 = [10,30,40,20,50]\n",
        "\n",
        "l1.remove(max(l1))\n",
        "print(max(l1))\n"
      ],
      "metadata": {
        "id": "zRdaqGELGGS_",
        "outputId": "24fd98de-b3f0-4327-b542-c23cd98bf4f2",
        "colab": {
          "base_uri": "https://localhost:8080/"
        }
      },
      "execution_count": null,
      "outputs": [
        {
          "output_type": "stream",
          "name": "stdout",
          "text": [
            "40\n"
          ]
        }
      ]
    },
    {
      "cell_type": "markdown",
      "source": [
        "**Day 7** - April 23, 2025"
      ],
      "metadata": {
        "id": "HhGdtU4N-gzF"
      }
    },
    {
      "cell_type": "code",
      "source": [
        "# list() method\n",
        "# Syntax - list(Iterable)\n",
        "# Iterable can be string, list, tupple etc.\n",
        "\n",
        "str = \"NTT DATA\"\n",
        "\n",
        "l1 = list(str)\n",
        "\n",
        "print(l1)"
      ],
      "metadata": {
        "id": "1rM0X8taBIcP",
        "outputId": "3624af8e-0d92-4f31-d036-dd33c6afa6ca",
        "colab": {
          "base_uri": "https://localhost:8080/"
        }
      },
      "execution_count": null,
      "outputs": [
        {
          "output_type": "stream",
          "name": "stdout",
          "text": [
            "['N', 'T', 'T', ' ', 'D', 'A', 'T', 'A']\n"
          ]
        }
      ]
    },
    {
      "cell_type": "code",
      "source": [
        "# list() method\n",
        "\n",
        "l1 = list()\n",
        "print(l1)\n",
        "\n",
        "print(type(l1))"
      ],
      "metadata": {
        "id": "UsWI5MFGDBxE",
        "outputId": "888abc81-3458-47fd-8ee7-98f88ffe7d23",
        "colab": {
          "base_uri": "https://localhost:8080/"
        }
      },
      "execution_count": null,
      "outputs": [
        {
          "output_type": "stream",
          "name": "stdout",
          "text": [
            "[]\n",
            "<class 'list'>\n"
          ]
        }
      ]
    },
    {
      "cell_type": "code",
      "source": [
        "# list() method\n",
        "\n",
        "l2 = list(range(1,5))\n",
        "print(l2)"
      ],
      "metadata": {
        "id": "7NIc5XqlDnhC",
        "outputId": "ac903362-a9ba-4cb2-c8a9-70cbfa09fe78",
        "colab": {
          "base_uri": "https://localhost:8080/"
        }
      },
      "execution_count": null,
      "outputs": [
        {
          "output_type": "stream",
          "name": "stdout",
          "text": [
            "[1, 2, 3, 4]\n"
          ]
        }
      ]
    },
    {
      "cell_type": "code",
      "source": [
        "# Remove duplicate and count the occurance\n",
        "# given list l1 = [2,3,3,4,4,4,2,6,7,8,6]\n",
        "#output = [2,3,4,6,7,8]\n",
        "#count = [2,2,3,2,1,1]\n",
        "\n",
        "l1 = [2,3,3,4,4,4,2,6,7,8,6,5]\n",
        "\n",
        "#output = [2,3,4,6,7,8]\n",
        "#count = [2,2,3,2,1,1]\n",
        "\n",
        "l2 = []\n",
        "l3 = []\n",
        "for num in l1:\n",
        "  if num not in l2:\n",
        "    l2.append(num)\n",
        "    l3.append(l1.count(num))\n",
        "\n",
        "print(l2)\n",
        "print(l3)\n"
      ],
      "metadata": {
        "id": "xpm66dI6EDbo",
        "outputId": "05439e73-a223-46e9-841d-8f25e42af530",
        "colab": {
          "base_uri": "https://localhost:8080/"
        }
      },
      "execution_count": null,
      "outputs": [
        {
          "output_type": "stream",
          "name": "stdout",
          "text": [
            "[2, 3, 4, 6, 7, 8, 5]\n",
            "[2, 2, 3, 2, 1, 1, 1]\n"
          ]
        }
      ]
    },
    {
      "cell_type": "code",
      "source": [
        "# Tuples\n",
        "\n",
        "t1 = (1,2,3,4)\n",
        "\n",
        "print(t1)\n",
        "print(type(t1))"
      ],
      "metadata": {
        "id": "7NmmNFZPJNke",
        "outputId": "d45e69c7-9323-4324-ca56-9f4b8f1ed75f",
        "colab": {
          "base_uri": "https://localhost:8080/"
        }
      },
      "execution_count": null,
      "outputs": [
        {
          "output_type": "stream",
          "name": "stdout",
          "text": [
            "(1, 2, 3, 4)\n",
            "<class 'tuple'>\n"
          ]
        }
      ]
    },
    {
      "cell_type": "code",
      "source": [
        "# Tuples\n",
        "\n",
        "t1 = (1, 2, 3, 4, \"NTT Data\", 3.14, [6,7,8],(5,6,7))\n",
        "\n",
        "print(t1)\n",
        "print(type(t1))"
      ],
      "metadata": {
        "id": "-jDi4PfrJWQx",
        "outputId": "61be0eec-e29a-4bd1-aa5c-7b73d8e7d885",
        "colab": {
          "base_uri": "https://localhost:8080/"
        }
      },
      "execution_count": null,
      "outputs": [
        {
          "output_type": "stream",
          "name": "stdout",
          "text": [
            "(1, 2, 3, 4, 'NTT Data', 3.14, [6, 7, 8], (5, 6, 7))\n",
            "<class 'tuple'>\n"
          ]
        }
      ]
    },
    {
      "cell_type": "code",
      "source": [
        "# tuple() method\n",
        "\n",
        "s = \"NTT DATA\"\n",
        "t2 = tuple(s)\n",
        "\n",
        "print(t2)\n",
        "print(type(s))\n",
        "print(type(t2))\n"
      ],
      "metadata": {
        "id": "wRhjHt8JJiCh",
        "outputId": "8f6f7926-7c89-4464-d1dd-bec5f8f9e235",
        "colab": {
          "base_uri": "https://localhost:8080/"
        }
      },
      "execution_count": null,
      "outputs": [
        {
          "output_type": "stream",
          "name": "stdout",
          "text": [
            "('N', 'T', 'T', ' ', 'D', 'A', 'T', 'A')\n",
            "<class 'str'>\n",
            "<class 'tuple'>\n"
          ]
        }
      ]
    },
    {
      "cell_type": "code",
      "source": [
        "# tuple() method\n",
        "\n",
        "s = \"NTT DATA\"\n",
        "t2 = tuple(s)\n",
        "\n",
        "l1 = [10,20,30]\n",
        "\n",
        "t3 = tuple(l1) #converts list to a tuple\n",
        "print(t3)\n",
        "\n",
        "l5 = list(t3) #converts tuple to a list\n",
        "print(l5)"
      ],
      "metadata": {
        "id": "SzAacAROJy_K",
        "outputId": "74f3e3e9-efcc-47a8-c754-e337a4093aa5",
        "colab": {
          "base_uri": "https://localhost:8080/"
        }
      },
      "execution_count": null,
      "outputs": [
        {
          "output_type": "stream",
          "name": "stdout",
          "text": [
            "(10, 20, 30)\n",
            "[10, 20, 30]\n"
          ]
        }
      ]
    },
    {
      "cell_type": "code",
      "source": [
        "# tuple with a single element\n",
        "\n",
        "t5 = (6)\n",
        "print(t5)\n",
        "print(type(t5))"
      ],
      "metadata": {
        "id": "dJ7O40ytKhAo",
        "outputId": "ad3bcd8b-71c6-4571-863e-729c1dafc8b1",
        "colab": {
          "base_uri": "https://localhost:8080/"
        }
      },
      "execution_count": null,
      "outputs": [
        {
          "output_type": "stream",
          "name": "stdout",
          "text": [
            "6\n",
            "<class 'int'>\n"
          ]
        }
      ]
    },
    {
      "cell_type": "code",
      "source": [
        "# tuple with a single element\n",
        "\n",
        "t5 = (6,)\n",
        "print(t5)\n",
        "print(type(t5))"
      ],
      "metadata": {
        "id": "jQrcuzz6LNgf",
        "outputId": "af36b46f-6720-4048-ac45-d35c7152596b",
        "colab": {
          "base_uri": "https://localhost:8080/"
        }
      },
      "execution_count": null,
      "outputs": [
        {
          "output_type": "stream",
          "name": "stdout",
          "text": [
            "(6,)\n",
            "<class 'tuple'>\n"
          ]
        }
      ]
    },
    {
      "cell_type": "code",
      "source": [
        "# tuple concatenation\n",
        "\n",
        "t1 = (1,2,3,\"NTT\",2+3j)\n",
        "t2 = (4,5,6,3.14,[10,20])\n",
        "\n",
        "t3 = t1+t2\n",
        "print(t3)\n",
        "print(type(t3))"
      ],
      "metadata": {
        "id": "bzbZE_d3L5f5",
        "outputId": "08c7acbc-945a-424b-dcaf-c287b8867df2",
        "colab": {
          "base_uri": "https://localhost:8080/"
        }
      },
      "execution_count": null,
      "outputs": [
        {
          "output_type": "stream",
          "name": "stdout",
          "text": [
            "(1, 2, 3, 'NTT', (2+3j), 4, 5, 6, 3.14, [10, 20])\n",
            "<class 'tuple'>\n"
          ]
        }
      ]
    },
    {
      "cell_type": "code",
      "source": [
        "# tuple multiplication\n",
        "\n",
        "t1 = (10,20,30)\n",
        "t2 = t1*3\n",
        "\n",
        "print(t2)\n",
        "print(type(t2))"
      ],
      "metadata": {
        "id": "n2c_9i0tMR43",
        "outputId": "4f5e4395-fddc-459f-d5c1-5006568bbe2b",
        "colab": {
          "base_uri": "https://localhost:8080/"
        }
      },
      "execution_count": null,
      "outputs": [
        {
          "output_type": "stream",
          "name": "stdout",
          "text": [
            "(10, 20, 30, 10, 20, 30, 10, 20, 30)\n",
            "<class 'tuple'>\n"
          ]
        }
      ]
    },
    {
      "cell_type": "code",
      "source": [
        "# iterating tuple\n",
        "\n",
        "t1 = (1,2,3,4,5,6)\n",
        "\n",
        "for i in t1:\n",
        "  print(i)"
      ],
      "metadata": {
        "id": "6w33A_TFMdXO",
        "outputId": "4ccc29d7-7eaa-4fe1-9fe8-8b03d55e8ccd",
        "colab": {
          "base_uri": "https://localhost:8080/"
        }
      },
      "execution_count": null,
      "outputs": [
        {
          "output_type": "stream",
          "name": "stdout",
          "text": [
            "1\n",
            "2\n",
            "3\n",
            "4\n",
            "5\n",
            "6\n"
          ]
        }
      ]
    },
    {
      "cell_type": "code",
      "source": [
        "# Slicing in tuple\n",
        "\n",
        "t1 = (1, 2, 3, 'NTT', (2+3j), 4, 5, 6, 3.14, [10, 20])\n",
        "\n",
        "print(t1[0:5])\n",
        "print(t1[4:])"
      ],
      "metadata": {
        "id": "Tm7Gmk4yMoiF",
        "outputId": "fa792d24-b2ea-411f-fec2-2e0650addd3a",
        "colab": {
          "base_uri": "https://localhost:8080/"
        }
      },
      "execution_count": null,
      "outputs": [
        {
          "output_type": "stream",
          "name": "stdout",
          "text": [
            "(1, 2, 3, 'NTT', (2+3j))\n",
            "((2+3j), 4, 5, 6, 3.14, [10, 20])\n"
          ]
        }
      ]
    },
    {
      "cell_type": "code",
      "source": [
        "# Dictionary\n",
        "\n",
        "d1 = {\"name\": \"Ram\", \"age\":30, \"city\": \"New Delhi\"}\n",
        "\n",
        "print(d1)\n",
        "print(type(d1))\n",
        "\n",
        "print(d1.keys())\n",
        "print(d1.values())\n",
        "print(d1.items())\n",
        "\n",
        "l1 = list(d1.items())\n",
        "print(l1)\n",
        "print(l1[1])"
      ],
      "metadata": {
        "id": "GGzQRNSVQQJO",
        "outputId": "9b0aac66-722f-47db-bb58-91301f26a954",
        "colab": {
          "base_uri": "https://localhost:8080/"
        }
      },
      "execution_count": null,
      "outputs": [
        {
          "output_type": "stream",
          "name": "stdout",
          "text": [
            "{'name': 'Ram', 'age': 30, 'city': 'New Delhi'}\n",
            "<class 'dict'>\n",
            "dict_keys(['name', 'age', 'city'])\n",
            "dict_values(['Ram', 30, 'New Delhi'])\n",
            "dict_items([('name', 'Ram'), ('age', 30), ('city', 'New Delhi')])\n",
            "[('name', 'Ram'), ('age', 30), ('city', 'New Delhi')]\n",
            "('age', 30)\n"
          ]
        }
      ]
    },
    {
      "cell_type": "markdown",
      "source": [
        "**Day 8** - April 25, 2025"
      ],
      "metadata": {
        "id": "eo1U3r5hSVjO"
      }
    },
    {
      "cell_type": "code",
      "source": [
        "# Creating a Dictionary\n",
        "\n",
        "d1 = {2:100, 4:200, 6:300, 8:400, 10:500}\n",
        "\n",
        "d2 = {'aa':100, 'bb':200, 'cc':300}\n",
        "\n",
        "d3 = {3:[1,2,3], 6:(4,5,6), 9:'NTT'}\n",
        "\n",
        "d4 = {(1,2):100, (3,4):200, (5,6):300}\n",
        "\n",
        "print(d1)\n",
        "print(type(d1))\n",
        "\n",
        "print(d1[4])\n",
        "print(d2['cc'])\n",
        "print(d3[9])\n",
        "print(d4[(1,2)])\n"
      ],
      "metadata": {
        "colab": {
          "base_uri": "https://localhost:8080/"
        },
        "id": "TzuYLzE0SYsb",
        "outputId": "faef9f97-c336-4164-db84-e1e9ddbf3679"
      },
      "execution_count": 10,
      "outputs": [
        {
          "output_type": "stream",
          "name": "stdout",
          "text": [
            "{2: 100, 4: 200, 6: 300, 8: 400, 10: 500}\n",
            "<class 'dict'>\n",
            "200\n",
            "300\n",
            "NTT\n",
            "100\n"
          ]
        }
      ]
    },
    {
      "cell_type": "code",
      "source": [
        "# ITEREATING A DICTIONARY - keys\n",
        "\n",
        "d1 = {2:100, 4:200, 6:300, 8:400, 10:500}\n",
        "\n",
        "for key1 in d1:\n",
        "  print(key1)"
      ],
      "metadata": {
        "colab": {
          "base_uri": "https://localhost:8080/"
        },
        "id": "3sHkxyzMeWsY",
        "outputId": "04331262-aa79-4979-e4c6-e35cc8a1dee8"
      },
      "execution_count": 13,
      "outputs": [
        {
          "output_type": "stream",
          "name": "stdout",
          "text": [
            "2\n",
            "4\n",
            "6\n",
            "8\n",
            "10\n"
          ]
        }
      ]
    },
    {
      "cell_type": "code",
      "source": [
        "# ITEREATING A DICTIONARY - values\n",
        "\n",
        "d1 = {2:100, 4:200, 6:300, 8:400, 10:500}\n",
        "\n",
        "for val in d1:\n",
        "  print(d1[val])"
      ],
      "metadata": {
        "colab": {
          "base_uri": "https://localhost:8080/"
        },
        "id": "oRq0KdzJeq6-",
        "outputId": "ca77aac4-4f67-455a-fb27-5ae6ada2f206"
      },
      "execution_count": 14,
      "outputs": [
        {
          "output_type": "stream",
          "name": "stdout",
          "text": [
            "100\n",
            "200\n",
            "300\n",
            "400\n",
            "500\n"
          ]
        }
      ]
    },
    {
      "cell_type": "code",
      "source": [
        "# ITEREATING A DICTIONARY - values\n",
        "\n",
        "d1 = {2:100, 4:200, 6:300, 8:400, 10:500}\n",
        "\n",
        "for val in d1.values():\n",
        "  print(val)"
      ],
      "metadata": {
        "colab": {
          "base_uri": "https://localhost:8080/"
        },
        "id": "qYR0K1uPe5eK",
        "outputId": "92dac15c-1ec3-438b-e150-753cc792ac64"
      },
      "execution_count": 16,
      "outputs": [
        {
          "output_type": "stream",
          "name": "stdout",
          "text": [
            "100\n",
            "200\n",
            "300\n",
            "400\n",
            "500\n"
          ]
        }
      ]
    },
    {
      "cell_type": "code",
      "source": [
        "# ITEREATING A DICTIONARY - items\n",
        "\n",
        "d1 = {2:100, 4:200, 6:300, 8:400, 10:500}\n",
        "\n",
        "for element in d1.items():\n",
        "  print(element)"
      ],
      "metadata": {
        "colab": {
          "base_uri": "https://localhost:8080/"
        },
        "id": "4nRujRdvfcQa",
        "outputId": "1ba7e8da-4a2a-4dc8-92ff-fbd02bd57027"
      },
      "execution_count": 17,
      "outputs": [
        {
          "output_type": "stream",
          "name": "stdout",
          "text": [
            "(2, 100)\n",
            "(4, 200)\n",
            "(6, 300)\n",
            "(8, 400)\n",
            "(10, 500)\n"
          ]
        }
      ]
    },
    {
      "cell_type": "code",
      "source": [
        "# Membership operator\n",
        "\n",
        "d1 = {2:100, 4:200, 6:300, 8:400}\n",
        "\n",
        "if 2 in d1:\n",
        "  print('2 is present')\n",
        "\n",
        "if 10 not in d1:\n",
        "  print('10 is not present')\n"
      ],
      "metadata": {
        "colab": {
          "base_uri": "https://localhost:8080/"
        },
        "id": "A69GoVyLhReq",
        "outputId": "4b4f723d-e831-41bd-aeb6-8f02a306b653"
      },
      "execution_count": 12,
      "outputs": [
        {
          "output_type": "stream",
          "name": "stdout",
          "text": [
            "2 is present\n",
            "10 is not present\n"
          ]
        }
      ]
    },
    {
      "cell_type": "code",
      "source": [
        "# Inbuilt methods - keys()\n",
        "\n",
        "d1 = {2:100, 4:200, 6:300, 8:400, 10:500}\n",
        "keys = d1.keys()\n",
        "print(keys)\n",
        "print(type(keys))\n",
        "\n",
        "l1 = list(keys)\n",
        "print(l1)\n",
        "print(type(l1))\n"
      ],
      "metadata": {
        "id": "MuNb7STGh897",
        "outputId": "f10c973a-1ba8-4b15-d5d4-4977f5350829",
        "colab": {
          "base_uri": "https://localhost:8080/"
        }
      },
      "execution_count": 6,
      "outputs": [
        {
          "output_type": "stream",
          "name": "stdout",
          "text": [
            "dict_keys([2, 4, 6, 8, 10])\n",
            "<class 'dict_keys'>\n",
            "[2, 4, 6, 8, 10]\n",
            "<class 'list'>\n"
          ]
        }
      ]
    },
    {
      "cell_type": "code",
      "source": [
        "# Inbuilt methods - values()\n",
        "\n",
        "d1 = {2:100, 4:200, 6:300, 8:400, 10:500}\n",
        "\n",
        "val = d1.values()\n",
        "print(val)\n",
        "print(type(val))\n",
        "\n",
        "l1 = list(val)\n",
        "print(l1)\n",
        "print(type(l1))"
      ],
      "metadata": {
        "id": "qxvJxdoqigRU",
        "outputId": "5f55455a-9a58-4509-c934-ddcbb4ac1c91",
        "colab": {
          "base_uri": "https://localhost:8080/"
        }
      },
      "execution_count": 13,
      "outputs": [
        {
          "output_type": "stream",
          "name": "stdout",
          "text": [
            "dict_values([100, 200, 300, 400, 500])\n",
            "<class 'dict_values'>\n",
            "[100, 200, 300, 400, 500]\n",
            "<class 'list'>\n"
          ]
        }
      ]
    },
    {
      "cell_type": "code",
      "source": [
        "# Inbuilt methods - items()\n",
        "\n",
        "d1 = {2:100, 4:200, 6:300, 8:400, 10:500}\n",
        "\n",
        "it = d1.items()\n",
        "print(it)"
      ],
      "metadata": {
        "id": "6FzQlaRajP78",
        "outputId": "7a40509a-fccf-412f-e673-ff3bb251aa29",
        "colab": {
          "base_uri": "https://localhost:8080/"
        }
      },
      "execution_count": 14,
      "outputs": [
        {
          "output_type": "stream",
          "name": "stdout",
          "text": [
            "dict_items([(2, 100), (4, 200), (6, 300), (8, 400), (10, 500)])\n"
          ]
        }
      ]
    },
    {
      "cell_type": "code",
      "source": [
        "# Inbuilt methods - get()\n",
        "\n",
        "d1 = {2:100, 4:200, 6:300, 8:400, 10:500}\n",
        "\n",
        "val = d1.get(2)\n",
        "print(val)\n",
        "\n",
        "val2 = d1.get(20)\n",
        "print(val2)\n",
        "\n",
        "val3 = d1.get(30,0) # 0 is the default value\n",
        "print(val3)"
      ],
      "metadata": {
        "id": "5UJg8HuajZap",
        "outputId": "773abaad-1b73-4422-8f47-19af724d3a77",
        "colab": {
          "base_uri": "https://localhost:8080/"
        }
      },
      "execution_count": 26,
      "outputs": [
        {
          "output_type": "stream",
          "name": "stdout",
          "text": [
            "100\n",
            "None\n",
            "0\n"
          ]
        }
      ]
    },
    {
      "cell_type": "code",
      "source": [
        "# Inbuilt methods - pop()\n",
        "\n",
        "d1 = {2:100, 4:200, 6:300, 8:400, 10:500}\n",
        "\n",
        "val = d1.pop(2)\n",
        "print(val)\n",
        "print(d1)\n",
        "\n",
        "val2 = d1.pop(20,1000) # 1000 is default value\n",
        "print(val2)\n",
        "print(d1)\n"
      ],
      "metadata": {
        "id": "xBWU5TxzkOLh",
        "outputId": "9b7b0954-d87b-4b75-e76b-965aa6b7f1c2",
        "colab": {
          "base_uri": "https://localhost:8080/"
        }
      },
      "execution_count": 28,
      "outputs": [
        {
          "output_type": "stream",
          "name": "stdout",
          "text": [
            "100\n",
            "{4: 200, 6: 300, 8: 400, 10: 500}\n",
            "1000\n",
            "{4: 200, 6: 300, 8: 400, 10: 500}\n"
          ]
        }
      ]
    },
    {
      "cell_type": "code",
      "source": [
        "# Inbuilt methods - update()\n",
        "\n",
        "d1 = {2:100, 4:200, 6:300, 8:400}\n",
        "d2 = {10:1000, 20:2000}\n",
        "\n",
        "d1.update(d2)\n",
        "print(d1)\n",
        "\n",
        "d1.update({2:10000, 200:20000})\n",
        "print(d1)\n",
        "\n"
      ],
      "metadata": {
        "id": "FpKlkj6JlWed",
        "outputId": "6fd40347-5b23-4fde-f2d1-e87b7c710b36",
        "colab": {
          "base_uri": "https://localhost:8080/"
        }
      },
      "execution_count": 31,
      "outputs": [
        {
          "output_type": "stream",
          "name": "stdout",
          "text": [
            "{2: 100, 4: 200, 6: 300, 8: 400, 10: 1000, 20: 2000}\n",
            "{2: 10000, 4: 200, 6: 300, 8: 400, 10: 1000, 20: 2000, 200: 20000}\n"
          ]
        }
      ]
    },
    {
      "cell_type": "code",
      "source": [
        "d1 = {2:100, 4:200, 6:300, 8:400, 2:500}\n",
        "\n",
        "print(d1)\n"
      ],
      "metadata": {
        "id": "LrBQxoL5mlcI",
        "outputId": "a07d71a8-166c-486c-dfff-99002e8beab6",
        "colab": {
          "base_uri": "https://localhost:8080/"
        }
      },
      "execution_count": 32,
      "outputs": [
        {
          "output_type": "stream",
          "name": "stdout",
          "text": [
            "{2: 500, 4: 200, 6: 300, 8: 400}\n"
          ]
        }
      ]
    },
    {
      "cell_type": "code",
      "source": [
        "# Inbuilt methods - clear()\n",
        "\n",
        "d1 = {2:100, 4:200, 6:300, 8:400, 2:500}\n",
        "\n",
        "print(d1)\n",
        "d1.clear()\n",
        "print(d1)\n"
      ],
      "metadata": {
        "id": "OTkseGSMnI3P",
        "outputId": "7af2f560-fac4-46e7-ad0d-effc3a560447",
        "colab": {
          "base_uri": "https://localhost:8080/"
        }
      },
      "execution_count": 34,
      "outputs": [
        {
          "output_type": "stream",
          "name": "stdout",
          "text": [
            "{2: 500, 4: 200, 6: 300, 8: 400}\n",
            "{}\n"
          ]
        }
      ]
    },
    {
      "cell_type": "code",
      "source": [
        "# Inbuilt methods - shallow copy\n",
        "\n",
        "d1 = {2:100, 4:200, 6:300, 8:400, 2:500}\n",
        "\n",
        "d2 = d1.copy()\n",
        "print(d1)\n",
        "print(d2)\n",
        "\n",
        "print(id(d1))\n",
        "print(id(d2))"
      ],
      "metadata": {
        "id": "zPOLOuM4np2N",
        "outputId": "f4bcc795-1b59-4d81-96d1-9ce5df071819",
        "colab": {
          "base_uri": "https://localhost:8080/"
        }
      },
      "execution_count": 37,
      "outputs": [
        {
          "output_type": "stream",
          "name": "stdout",
          "text": [
            "{2: 500, 4: 200, 6: 300, 8: 400}\n",
            "{2: 500, 4: 200, 6: 300, 8: 400}\n",
            "137114536772608\n",
            "137114536547008\n"
          ]
        }
      ]
    },
    {
      "cell_type": "code",
      "source": [
        "# Inbuilt methods - fromKeys()\n",
        "\n",
        "keys = [1,2,3,4]\n",
        "d1 = dict.fromkeys(keys)\n",
        "print(d1)\n",
        "\n",
        "d2 = dict.fromkeys(keys,100) # 100 is default value\n",
        "print(d2)\n",
        "\n",
        "d1 = {2:100, 4:200, 6:300, 8:400, 2:500}"
      ],
      "metadata": {
        "id": "y3IGInC2p3gW",
        "outputId": "35f5ee0a-dd0a-4603-ccc3-cce32f012a38",
        "colab": {
          "base_uri": "https://localhost:8080/"
        }
      },
      "execution_count": 38,
      "outputs": [
        {
          "output_type": "stream",
          "name": "stdout",
          "text": [
            "{1: None, 2: None, 3: None, 4: None}\n",
            "{1: 100, 2: 100, 3: 100, 4: 100}\n"
          ]
        }
      ]
    },
    {
      "cell_type": "code",
      "source": [
        "# Inbuilt methods - =zip(keys,value)\n",
        "\n",
        "k=[1,2,3,4,5]\n",
        "v = [10,20,30,40,50]\n",
        "\n",
        "d1 = dict(zip(k,v))\n",
        "print(d1)\n",
        ""
      ],
      "metadata": {
        "id": "sDGIz8DFqJss",
        "outputId": "9e036523-ca9d-419a-c5af-107a20d52ba3",
        "colab": {
          "base_uri": "https://localhost:8080/"
        }
      },
      "execution_count": 41,
      "outputs": [
        {
          "output_type": "stream",
          "name": "stdout",
          "text": [
            "{1: 10, 2: 20, 3: 30, 4: 40, 5: 50}\n"
          ]
        }
      ]
    }
  ]
}