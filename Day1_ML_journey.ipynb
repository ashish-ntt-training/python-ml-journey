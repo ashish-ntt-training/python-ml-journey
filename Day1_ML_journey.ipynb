{
  "nbformat": 4,
  "nbformat_minor": 0,
  "metadata": {
    "colab": {
      "provenance": [],
      "include_colab_link": true
    },
    "kernelspec": {
      "name": "python3",
      "display_name": "Python 3"
    },
    "language_info": {
      "name": "python"
    }
  },
  "cells": [
    {
      "cell_type": "markdown",
      "metadata": {
        "id": "view-in-github",
        "colab_type": "text"
      },
      "source": [
        "<a href=\"https://colab.research.google.com/github/ashish-ntt-training/python-ml-journey/blob/main/Day1_ML_journey.ipynb\" target=\"_parent\"><img src=\"https://colab.research.google.com/assets/colab-badge.svg\" alt=\"Open In Colab\"/></a>"
      ]
    },
    {
      "cell_type": "markdown",
      "source": [
        "**Day 1** - April 07, 2025"
      ],
      "metadata": {
        "id": "WNC0djsDK-YK"
      }
    },
    {
      "cell_type": "code",
      "execution_count": null,
      "metadata": {
        "colab": {
          "base_uri": "https://localhost:8080/"
        },
        "id": "HpmbKqI7jltH",
        "outputId": "0ec1bf68-5f68-4ec7-f746-ea081ec8cab5"
      },
      "outputs": [
        {
          "output_type": "stream",
          "name": "stdout",
          "text": [
            "hello world\n"
          ]
        }
      ],
      "source": [
        "print(\"hello world\")"
      ]
    },
    {
      "cell_type": "code",
      "source": [
        "a = 10\n",
        "b = 10\n",
        "\n",
        "print(a==b)"
      ],
      "metadata": {
        "id": "vBmraaqXA1JJ",
        "outputId": "a05c2415-8591-4101-84a4-2f3e5887dbd7",
        "colab": {
          "base_uri": "https://localhost:8080/"
        }
      },
      "execution_count": null,
      "outputs": [
        {
          "output_type": "stream",
          "name": "stdout",
          "text": [
            "True\n"
          ]
        }
      ]
    },
    {
      "cell_type": "markdown",
      "source": [
        "**Day 2** - April 09, 2025"
      ],
      "metadata": {
        "id": "8Kaah2W_LIkx"
      }
    },
    {
      "cell_type": "code",
      "source": [
        "a=10\n",
        "b=20\n",
        "c=a\n",
        "print(id(a)) # id function returns the memory location of a varaiable\n",
        "print(id(b))\n",
        "print(id(c))"
      ],
      "metadata": {
        "id": "SPEjtTAQGiv8",
        "outputId": "fbf8fab0-a0cc-4499-b699-963bed1e0dc6",
        "colab": {
          "base_uri": "https://localhost:8080/"
        }
      },
      "execution_count": null,
      "outputs": [
        {
          "output_type": "stream",
          "name": "stdout",
          "text": [
            "10751144\n",
            "10751464\n",
            "10751144\n"
          ]
        }
      ]
    },
    {
      "cell_type": "code",
      "source": [
        "a,b,c=10,20,30 # Variables can be assigned like this also\n",
        "print(a,b,c)"
      ],
      "metadata": {
        "id": "uRGDCevzG_l-",
        "outputId": "017fe3a7-e967-418e-c729-f5a12f6f0ce1",
        "colab": {
          "base_uri": "https://localhost:8080/"
        }
      },
      "execution_count": null,
      "outputs": [
        {
          "output_type": "stream",
          "name": "stdout",
          "text": [
            "10 20 30\n"
          ]
        }
      ]
    },
    {
      "cell_type": "code",
      "source": [
        "a=b=c=10 # Variables can be assigned like this also\n",
        "print(a,b,c)"
      ],
      "metadata": {
        "id": "z2zoZVISHOMd",
        "outputId": "de7842a8-2995-4650-c531-4f1bd6131569",
        "colab": {
          "base_uri": "https://localhost:8080/"
        }
      },
      "execution_count": null,
      "outputs": [
        {
          "output_type": "stream",
          "name": "stdout",
          "text": [
            "10 10 10\n"
          ]
        }
      ]
    },
    {
      "cell_type": "code",
      "source": [
        "import keyword as kw # it lists all the keywords reserved in Python here \"kw\" is alias it can be anything\n",
        "print(kw.kwlist)"
      ],
      "metadata": {
        "id": "96DgjnpKKB93",
        "outputId": "d711bf57-bb63-4ca3-e1ed-adb9551991e6",
        "colab": {
          "base_uri": "https://localhost:8080/"
        }
      },
      "execution_count": null,
      "outputs": [
        {
          "output_type": "stream",
          "name": "stdout",
          "text": [
            "['False', 'None', 'True', 'and', 'as', 'assert', 'async', 'await', 'break', 'class', 'continue', 'def', 'del', 'elif', 'else', 'except', 'finally', 'for', 'from', 'global', 'if', 'import', 'in', 'is', 'lambda', 'nonlocal', 'not', 'or', 'pass', 'raise', 'return', 'try', 'while', 'with', 'yield']\n"
          ]
        }
      ]
    },
    {
      "cell_type": "code",
      "source": [
        "# multiline comment\n",
        "\"\"\"This is\n",
        "a multiline\n",
        "comment\"\"\"\n",
        "print(\"Hello\")"
      ],
      "metadata": {
        "id": "38a8Ae6sKORj",
        "outputId": "4f9e0d57-1bed-49eb-ebe7-bd6c46a24e12",
        "colab": {
          "base_uri": "https://localhost:8080/"
        }
      },
      "execution_count": null,
      "outputs": [
        {
          "output_type": "stream",
          "name": "stdout",
          "text": [
            "Hello\n"
          ]
        }
      ]
    },
    {
      "cell_type": "code",
      "source": [
        "#python string\n",
        "a = 'ntt'\n",
        "b = \"data\"\n",
        "print(a)\n",
        "print(b)\n",
        "print(a,b)"
      ],
      "metadata": {
        "id": "TzDO14yMNOKq",
        "outputId": "fa1f3962-be16-4c5c-e429-8178d9de9f84",
        "colab": {
          "base_uri": "https://localhost:8080/"
        }
      },
      "execution_count": null,
      "outputs": [
        {
          "output_type": "stream",
          "name": "stdout",
          "text": [
            "ntt\n",
            "data\n",
            "ntt data\n"
          ]
        }
      ]
    },
    {
      "cell_type": "code",
      "source": [
        "#multiline string\n",
        "a = \"\"\"aassds\n",
        "ddddd\n",
        "ddfff\n",
        "fsdssws\"\"\"\n",
        "print(a)"
      ],
      "metadata": {
        "id": "6ScQoWY6NueK",
        "outputId": "23fd1ded-7e1b-47d9-9cca-1d2d45d0d0ef",
        "colab": {
          "base_uri": "https://localhost:8080/"
        }
      },
      "execution_count": null,
      "outputs": [
        {
          "output_type": "stream",
          "name": "stdout",
          "text": [
            "aassds\n",
            "ddddd\n",
            "ddfff\n",
            "fsdssws\n"
          ]
        }
      ]
    },
    {
      "cell_type": "code",
      "source": [
        "# Positive String Indexing\n",
        "a = 'NTT DATA'\n",
        "print(a[0])\n",
        "print(a[1])\n",
        "print(a[2])\n",
        "print(a[3])\n",
        "print(a[4])\n",
        "print(a[5])\n",
        "print(a[6])\n",
        "print(a[7])"
      ],
      "metadata": {
        "id": "xdamR4MDPuxi",
        "outputId": "3da79f87-ac1c-4060-b25a-ddc906d38868",
        "colab": {
          "base_uri": "https://localhost:8080/"
        }
      },
      "execution_count": null,
      "outputs": [
        {
          "output_type": "stream",
          "name": "stdout",
          "text": [
            "N\n",
            "T\n",
            "T\n",
            " \n",
            "D\n",
            "A\n",
            "T\n",
            "A\n"
          ]
        }
      ]
    },
    {
      "cell_type": "code",
      "source": [
        "# Negative String Indexing\n",
        "a = 'NTT DATA'\n",
        "\n",
        "print(a[-1])\n",
        "print(a[-2])\n",
        "print(a[-3])\n",
        "print(a[-4])\n",
        "print(a[-5])\n",
        "print(a[-6])\n",
        "print(a[-7])\n",
        "print(a[-8])"
      ],
      "metadata": {
        "id": "PVkmIdOoQO89",
        "outputId": "ef1c1897-564d-4e95-db8c-8bd793fab21f",
        "colab": {
          "base_uri": "https://localhost:8080/"
        }
      },
      "execution_count": null,
      "outputs": [
        {
          "output_type": "stream",
          "name": "stdout",
          "text": [
            "A\n",
            "T\n",
            "A\n",
            "D\n",
            " \n",
            "T\n",
            "T\n",
            "N\n"
          ]
        }
      ]
    },
    {
      "cell_type": "markdown",
      "source": [
        "**Day 3** - April 11, 2025"
      ],
      "metadata": {
        "id": "bDjYQZVnNOaH"
      }
    },
    {
      "cell_type": "code",
      "source": [
        "# Creating a simple list\n",
        "\n",
        "l = [10,20.3,\"NTT\", 3+4j]\n",
        "print(l)\n",
        "print(type(l))"
      ],
      "metadata": {
        "id": "C0ZTLt-6Pavv",
        "outputId": "734cbf39-76ab-4592-fb02-074698627172",
        "colab": {
          "base_uri": "https://localhost:8080/"
        }
      },
      "execution_count": null,
      "outputs": [
        {
          "output_type": "stream",
          "name": "stdout",
          "text": [
            "[10, 20.3, 'NTT', (3+4j)]\n",
            "<class 'list'>\n"
          ]
        }
      ]
    },
    {
      "cell_type": "code",
      "source": [
        "# type function returns the datatype class\n",
        "\n",
        "a = 10\n",
        "print(type(a))\n",
        "\n",
        "b = 'NTT'\n",
        "print(type(b))\n",
        "\n",
        "c = 3.414\n",
        "print(type(c))\n",
        "\n",
        "d = 3+4J\n",
        "print(type(d))"
      ],
      "metadata": {
        "id": "PN2PD2stSPc3",
        "outputId": "3a986325-b4ef-4ec0-81c9-e84ab5079524",
        "colab": {
          "base_uri": "https://localhost:8080/"
        }
      },
      "execution_count": null,
      "outputs": [
        {
          "output_type": "stream",
          "name": "stdout",
          "text": [
            "<class 'int'>\n",
            "<class 'str'>\n",
            "<class 'float'>\n",
            "<class 'complex'>\n"
          ]
        }
      ]
    },
    {
      "cell_type": "code",
      "source": [
        "# isinstance\n",
        "\n",
        "a = 10\n",
        "print(isinstance(a,int))\n",
        "print(isinstance(a,float))\n",
        "print(isinstance(a,str))\n"
      ],
      "metadata": {
        "id": "tGm4PdxYT0FZ",
        "outputId": "750d5921-7127-4618-8cc3-bc3a47497e35",
        "colab": {
          "base_uri": "https://localhost:8080/"
        }
      },
      "execution_count": null,
      "outputs": [
        {
          "output_type": "stream",
          "name": "stdout",
          "text": [
            "True\n",
            "False\n",
            "False\n"
          ]
        }
      ]
    },
    {
      "cell_type": "code",
      "source": [
        "# variable annotation\n",
        "\n",
        "name: str = \"Data\"\n",
        "print(name)\n",
        "\n",
        "print(__annotations__['name'])\n",
        "print(type(name))"
      ],
      "metadata": {
        "id": "EuW1oE2hULpK",
        "outputId": "ef95cb54-9c96-41fe-e99a-dd36dc65c77c",
        "colab": {
          "base_uri": "https://localhost:8080/"
        }
      },
      "execution_count": null,
      "outputs": [
        {
          "output_type": "stream",
          "name": "stdout",
          "text": [
            "Data\n",
            "<class 'str'>\n",
            "<class 'str'>\n"
          ]
        }
      ]
    },
    {
      "cell_type": "code",
      "source": [
        "# variable annotation\n",
        "\n",
        "val: str = 10\n",
        "print(val)\n",
        "\n",
        "print(__annotations__['val'])\n",
        "print(type(val))"
      ],
      "metadata": {
        "id": "WbytlJG_WQQ6",
        "outputId": "d3bd70b7-3515-4bc1-c6a5-c382952b1f6a",
        "colab": {
          "base_uri": "https://localhost:8080/"
        }
      },
      "execution_count": 2,
      "outputs": [
        {
          "output_type": "stream",
          "name": "stdout",
          "text": [
            "10\n",
            "<class 'str'>\n",
            "<class 'int'>\n"
          ]
        }
      ]
    }
  ]
}